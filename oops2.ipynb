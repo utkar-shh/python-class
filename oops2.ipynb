{
  "nbformat": 4,
  "nbformat_minor": 0,
  "metadata": {
    "colab": {
      "provenance": [],
      "authorship_tag": "ABX9TyOfUK/pruBJp7iiwqI6ONAm",
      "include_colab_link": true
    },
    "kernelspec": {
      "name": "python3",
      "display_name": "Python 3"
    },
    "language_info": {
      "name": "python"
    }
  },
  "cells": [
    {
      "cell_type": "markdown",
      "metadata": {
        "id": "view-in-github",
        "colab_type": "text"
      },
      "source": [
        "<a href=\"https://colab.research.google.com/github/utkar-shh/python-class/blob/main/oops2.ipynb\" target=\"_parent\"><img src=\"https://colab.research.google.com/assets/colab-badge.svg\" alt=\"Open In Colab\"/></a>"
      ]
    },
    {
      "cell_type": "code",
      "execution_count": 1,
      "metadata": {
        "colab": {
          "base_uri": "https://localhost:8080/"
        },
        "id": "m5XikC-ZUNx0",
        "outputId": "32432563-cb38-4500-ec2a-aca4375863da"
      },
      "outputs": [
        {
          "output_type": "stream",
          "name": "stdout",
          "text": [
            "sajid\n",
            "sajid SOCS\n"
          ]
        }
      ],
      "source": [
        "#constructor method\n",
        "class Person:\n",
        "  Name='sajid'\n",
        "  dept='SOCS'\n",
        "  def info(self):\n",
        "    print(self.Name,self.dept)\n",
        "\n",
        "p1=Person()\n",
        "print(p1.Name)\n",
        "p1.info()"
      ]
    },
    {
      "cell_type": "code",
      "source": [
        "class Person:\n",
        "  def __init__(self,Name,dept):\n",
        "    self.Name=Name\n",
        "    self.dept=dept\n",
        "  def info(self):\n",
        "   print(self.Name,self.dept)\n",
        "\n",
        "P2=Person(\"sujal\",\"socs\")  #object"
      ],
      "metadata": {
        "id": "l4ODU_N-UWPj"
      },
      "execution_count": 2,
      "outputs": []
    },
    {
      "cell_type": "code",
      "source": [
        "class Rectangle:\n",
        "  def __init__(self,length,breadth):\n",
        "    self.length=length\n",
        "    self.breadth=breadth\n",
        "  def area(self):\n",
        "    print(self.length*self.breadth)\n",
        "p2=Rectangle(10,5)\n",
        "p2.area()"
      ],
      "metadata": {
        "colab": {
          "base_uri": "https://localhost:8080/"
        },
        "id": "CP6cbCQLUc8d",
        "outputId": "8b5e8df7-69b1-4d16-a181-391b8f472b15"
      },
      "execution_count": 3,
      "outputs": [
        {
          "output_type": "stream",
          "name": "stdout",
          "text": [
            "50\n"
          ]
        }
      ]
    },
    {
      "cell_type": "code",
      "source": [
        "class Employee:\n",
        "  Name='Nadeem'\n",
        "  deptt='E&C'\n",
        "  def address(self,city):\n",
        "   print(self.Name,self.deptt,city) #self not used as city is not class member.\n",
        "  def family(self,members):\n",
        "   print(members)\n",
        "e1=Employee()\n",
        "e1.Name\n",
        "City=\"dehradun\"\n",
        "e1.address(City)\n",
        "\n",
        "e2=Employee()\n",
        "e2.Name\n",
        "members=5\n",
        "e2.family(5)\n",
        ""
      ],
      "metadata": {
        "colab": {
          "base_uri": "https://localhost:8080/"
        },
        "id": "jp6-juo3Uimc",
        "outputId": "52475c13-9cea-411c-e862-f6c872e3808b"
      },
      "execution_count": 7,
      "outputs": [
        {
          "output_type": "stream",
          "name": "stdout",
          "text": [
            "Nadeem E&C dehradun\n",
            "5\n"
          ]
        }
      ]
    },
    {
      "cell_type": "code",
      "source": [
        "#initialising using constructor   giving input during object creation.\n",
        "class Employee:\n",
        "  def __init__(self,Name,deptt):\n",
        "\n",
        "   self.Name=Name\n",
        "   self.deptt=deptt\n",
        "  def address(self,city):\n",
        "   print(self.Name,self.deptt,city) #self not used as city is not class member.\n",
        "  def family(self,members):\n",
        "   print(members)\n",
        "e1=Employee(\"john\",\"dehradun\")\n",
        "#e1.Name()  we can access it as it is not a class vairble\n",
        "City=\"srinagar\"\n",
        "e1.address(City)\n",
        "\n",
        "e2=Employee(\"sid\",\"Rishikesh\")\n",
        "e2.Name\n",
        "members=5\n",
        "e2.family(5)"
      ],
      "metadata": {
        "colab": {
          "base_uri": "https://localhost:8080/"
        },
        "id": "VbOpVAH9UlqH",
        "outputId": "70e1b2ca-d302-422b-f099-6546db6f25fa"
      },
      "execution_count": 8,
      "outputs": [
        {
          "output_type": "stream",
          "name": "stdout",
          "text": [
            "john dehradun srinagar\n",
            "5\n"
          ]
        }
      ]
    },
    {
      "cell_type": "code",
      "source": [
        "#WAP using a class to generate the factorial of any no by user\n",
        "#wap to print fibonaacci series of a number\n",
        "\n",
        "class Factorial:\n",
        "  def __init__(self,number):\n",
        "\n",
        "   self.number=number\n",
        "\n",
        "  def fact(self):\n",
        "    fact=1\n",
        "    for i in range(1,self.number+1):\n",
        "      fact=fact*i\n",
        "    print(fact)\n",
        "\n",
        "f=Factorial(6)\n",
        "f.fact()"
      ],
      "metadata": {
        "id": "tQO-JXSCU-Ab",
        "outputId": "d1fd7617-91a2-4fb6-da68-ae3d7b34219f",
        "colab": {
          "base_uri": "https://localhost:8080/"
        }
      },
      "execution_count": 9,
      "outputs": [
        {
          "output_type": "stream",
          "name": "stdout",
          "text": [
            "720\n"
          ]
        }
      ]
    }
  ]
}