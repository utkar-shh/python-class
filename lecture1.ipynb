{
  "nbformat": 4,
  "nbformat_minor": 0,
  "metadata": {
    "colab": {
      "provenance": [],
      "authorship_tag": "ABX9TyMV82f/E3l39IAP1zLFsNoQ",
      "include_colab_link": true
    },
    "kernelspec": {
      "name": "python3",
      "display_name": "Python 3"
    },
    "language_info": {
      "name": "python"
    }
  },
  "cells": [
    {
      "cell_type": "markdown",
      "metadata": {
        "id": "view-in-github",
        "colab_type": "text"
      },
      "source": [
        "<a href=\"https://colab.research.google.com/github/utkar-shh/python-class/blob/main/lecture1.ipynb\" target=\"_parent\"><img src=\"https://colab.research.google.com/assets/colab-badge.svg\" alt=\"Open In Colab\"/></a>"
      ]
    },
    {
      "cell_type": "code",
      "execution_count": null,
      "metadata": {
        "colab": {
          "base_uri": "https://localhost:8080/"
        },
        "id": "5W45Az1liMq4",
        "outputId": "5da5ee3b-ef34-41e8-e5f4-db93d9d5be52"
      },
      "outputs": [
        {
          "output_type": "stream",
          "name": "stdout",
          "text": [
            "57\n",
            "12\n",
            "<class 'str'>\n"
          ]
        }
      ],
      "source": [
        "a=\"5\"\n",
        "b=\"7\"\n",
        "c=a+b\n",
        "print(c)\n",
        "print(int(a)+int(b))\n",
        "print(type(a))\n"
      ]
    },
    {
      "cell_type": "code",
      "source": [
        "a=\"3434\"\n",
        "b=\"I am SId\"\n",
        "c=323\n",
        "print(c+float(a))\n",
        "print(b+a) #concantenation of two strings\n",
        "print(str(c)+a+b)\n"
      ],
      "metadata": {
        "colab": {
          "base_uri": "https://localhost:8080/"
        },
        "id": "_Gd6QlV-mW6d",
        "outputId": "f5c2157e-fc8c-45ba-c330-2958bfbaa80f"
      },
      "execution_count": null,
      "outputs": [
        {
          "metadata": {
            "tags": null
          },
          "name": "stdout",
          "output_type": "stream",
          "text": [
            "3757.0\n",
            "I am SId3434\n",
            "3233434I am SId\n"
          ]
        }
      ]
    },
    {
      "cell_type": "code",
      "source": [
        "birthyear=int(input(\"enter your  birth age\"))\n",
        "age=2024-birthyear\n",
        "print(\"my age is\" +str(age))"
      ],
      "metadata": {
        "colab": {
          "base_uri": "https://localhost:8080/"
        },
        "id": "mnvCEF7im10Y",
        "outputId": "6b111bc4-7b8a-4123-f821-4ec8503221fb"
      },
      "execution_count": null,
      "outputs": [
        {
          "output_type": "stream",
          "name": "stdout",
          "text": [
            "enter your  birth age19\n",
            "my age is2005\n"
          ]
        }
      ]
    },
    {
      "cell_type": "code",
      "source": [
        "#write a biodata of name age educational qualififcation, hobbies,address\n",
        "name=input(\"enter your NAme \\n\")\n",
        "age=int(input(\"enter your age\\n\"))\n",
        "educational_qualifications=input(\"write your education qualifications \")\n",
        "address=input(\"What is your Address \")\n",
        "hobbies=input(\"SIR WHat are your hobbies \")\n",
        "print(\"your data is as follows sir \")\n",
        "print(\"Your NAme is \",name)\n",
        "print(\"your age is \",(age))\n",
        "print(\"education is\",educational_qualifications)\n",
        "print(\"your Hobbies are\",hobbies)\n"
      ],
      "metadata": {
        "colab": {
          "base_uri": "https://localhost:8080/"
        },
        "id": "BjTEjI0Cm9HD",
        "outputId": "d35be0a4-b8d1-4525-bde7-9d84774939c1"
      },
      "execution_count": null,
      "outputs": [
        {
          "output_type": "stream",
          "name": "stdout",
          "text": [
            "enter your NAme \n",
            "utkarsh\n",
            "enter your age\n",
            "19\n",
            "write your education qualifications intermidiate\n",
            "What is your Address dehradun\n",
            "SIR WHat are your hobbies reading\n",
            "your data is as follows sir \n",
            "Your NAme is  utkarsh\n",
            "your age is  19\n",
            "education is intermidiate\n",
            "your Hobbies are reading\n"
          ]
        }
      ]
    }
  ]
}