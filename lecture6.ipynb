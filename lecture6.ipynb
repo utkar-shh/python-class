{
  "nbformat": 4,
  "nbformat_minor": 0,
  "metadata": {
    "colab": {
      "provenance": [],
      "authorship_tag": "ABX9TyNL5jLyeEg4bCxpEuSdF2oT",
      "include_colab_link": true
    },
    "kernelspec": {
      "name": "python3",
      "display_name": "Python 3"
    },
    "language_info": {
      "name": "python"
    }
  },
  "cells": [
    {
      "cell_type": "markdown",
      "metadata": {
        "id": "view-in-github",
        "colab_type": "text"
      },
      "source": [
        "<a href=\"https://colab.research.google.com/github/utkar-shh/python-class/blob/main/lecture6.ipynb\" target=\"_parent\"><img src=\"https://colab.research.google.com/assets/colab-badge.svg\" alt=\"Open In Colab\"/></a>"
      ]
    },
    {
      "cell_type": "code",
      "execution_count": 1,
      "metadata": {
        "colab": {
          "base_uri": "https://localhost:8080/"
        },
        "id": "ih-5wnS-RfIY",
        "outputId": "09a211f8-5660-4641-8b2e-732d2717f0ab"
      },
      "outputs": [
        {
          "output_type": "stream",
          "name": "stdout",
          "text": [
            " it's hello world\n",
            "\u0007 hello world\n",
            "hello \t world\n",
            "hello \\t world\n",
            "hello  world\n"
          ]
        }
      ],
      "source": [
        "#escape sequences\n",
        "print(' it\\'s hello world')\n",
        "a='hello world'\n",
        "print('\\a',a)\n",
        "print(\"hello \\t world\")\n",
        "print(R\"hello \\t world\")\n",
        "print(\"hello  world\")"
      ]
    },
    {
      "cell_type": "code",
      "source": [
        "list = [\"sajid\", \"nadeem\" ,\"touseef\", \"shahid\", \"Ram\"]\n",
        "print(list[0])\n",
        "print(list[-4])\n",
        "list[2] = \"tousyf\"\n",
        "print(len(list))\n",
        "\n",
        "list[2]=\"tia\"\n",
        "print(list)\n",
        "\n",
        "list.append(\"ajay\")\n",
        "print(list)\n",
        "\n",
        "list.insert(0,\"Rama\")\n",
        "print(list)\n",
        "\n",
        "list.remove(\"nadeem\")\n",
        "print(list)\n",
        "\n",
        "print('sajid' in list )\n",
        "list.clear\n",
        "print(list)"
      ],
      "metadata": {
        "id": "LUWLyN6tS0Mr",
        "outputId": "d71df327-1063-4570-a0e4-dd4c84ce6056",
        "colab": {
          "base_uri": "https://localhost:8080/"
        }
      },
      "execution_count": 5,
      "outputs": [
        {
          "output_type": "stream",
          "name": "stdout",
          "text": [
            "sajid\n",
            "nadeem\n",
            "5\n",
            "['sajid', 'nadeem', 'tia', 'shahid', 'Ram']\n",
            "['sajid', 'nadeem', 'tia', 'shahid', 'Ram', 'ajay']\n",
            "['Rama', 'sajid', 'nadeem', 'tia', 'shahid', 'Ram', 'ajay']\n",
            "['Rama', 'sajid', 'tia', 'shahid', 'Ram', 'ajay']\n",
            "True\n",
            "['Rama', 'sajid', 'tia', 'shahid', 'Ram', 'ajay']\n"
          ]
        }
      ]
    },
    {
      "cell_type": "code",
      "source": [
        "#delete elements.\n",
        "names=[1,2,3,4,5,6,7,8,9,10,\"syed\",10.5]\n",
        "for i in names:\n",
        "  print(names.pop())\n",
        "  print(names)\n"
      ],
      "metadata": {
        "id": "-aOtmvv2S3Qa",
        "outputId": "f751f225-a9c4-4de1-bcc0-c2c7ff6cde71",
        "colab": {
          "base_uri": "https://localhost:8080/"
        }
      },
      "execution_count": 6,
      "outputs": [
        {
          "output_type": "stream",
          "name": "stdout",
          "text": [
            "10.5\n",
            "[1, 2, 3, 4, 5, 6, 7, 8, 9, 10, 'syed']\n",
            "syed\n",
            "[1, 2, 3, 4, 5, 6, 7, 8, 9, 10]\n",
            "10\n",
            "[1, 2, 3, 4, 5, 6, 7, 8, 9]\n",
            "9\n",
            "[1, 2, 3, 4, 5, 6, 7, 8]\n",
            "8\n",
            "[1, 2, 3, 4, 5, 6, 7]\n",
            "7\n",
            "[1, 2, 3, 4, 5, 6]\n"
          ]
        }
      ]
    },
    {
      "cell_type": "code",
      "source": [
        "#tuple  immutable type\n",
        "names=(1,2,3,4,5,6,7,8,10)\n",
        "name2=(23,\"hello\")\n",
        "print(names)\n",
        "print(names[0])\n",
        "print(names[2:])\n",
        "print(names[-2])\n",
        "print(names[1:3])\n",
        "print(names *2)\n",
        "print(names + name2)"
      ],
      "metadata": {
        "id": "w8JPnBJrS5tv",
        "outputId": "4026d4ed-3c89-4545-9c10-98bed82dca17",
        "colab": {
          "base_uri": "https://localhost:8080/"
        }
      },
      "execution_count": 7,
      "outputs": [
        {
          "output_type": "stream",
          "name": "stdout",
          "text": [
            "(1, 2, 3, 4, 5, 6, 7, 8, 10)\n",
            "1\n",
            "(3, 4, 5, 6, 7, 8, 10)\n",
            "8\n",
            "(2, 3)\n",
            "(1, 2, 3, 4, 5, 6, 7, 8, 10, 1, 2, 3, 4, 5, 6, 7, 8, 10)\n",
            "(1, 2, 3, 4, 5, 6, 7, 8, 10, 23, 'hello')\n"
          ]
        }
      ]
    },
    {
      "cell_type": "markdown",
      "source": [
        "1.Wap to iterate through a string and print thoswe elemenst. 2.wap to print table from 9 to 11 3.wap to loop through a list"
      ],
      "metadata": {
        "id": "KfZXCTkMTAOq"
      }
    },
    {
      "cell_type": "code",
      "source": [
        "#1\n",
        "for i in \"hello World\":\n",
        "  print(i,end=\" \")"
      ],
      "metadata": {
        "id": "KQ40rIXSTBEA",
        "outputId": "83975c3e-8f0d-492b-8dc4-ef96bbd7306f",
        "colab": {
          "base_uri": "https://localhost:8080/"
        }
      },
      "execution_count": 8,
      "outputs": [
        {
          "output_type": "stream",
          "name": "stdout",
          "text": [
            "h e l l o   W o r l d "
          ]
        }
      ]
    },
    {
      "cell_type": "code",
      "source": [
        "#2\n",
        "\n",
        "for i in range(1,11,1):\n",
        "   print(\"2 x\",i,\"=\",2*i)\n",
        "for i in range(1,11,1):\n",
        "   print(\"\\n3 x\",i,\"=\",3*i)\n",
        "for i in range(1,11,1):\n",
        "   print(\"\\n4 x\",i,\"=\",4*i)\n",
        "for i in range(1,11,1):\n",
        "   print(\"\\n5 x\",i,\"=\",5*i)\n",
        "for i in range(1,11,1):\n",
        "   print(\"\\n6 x\",i,\"=\",6*i)\n",
        "for i in range(1,11,1):\n",
        "   print(\"\\n7 x\",i,\"=\",7*i)\n",
        "for i in range(1,11,1):\n",
        "   print(\"\\n8 x\",i,\"=\",8*i)\n",
        "for i in range(1,11,1):\n",
        "   print(\"\\n9 x\",i,\"=\",9*i)\n",
        "for i in range(1,11,1):\n",
        "   print(\"\\n10 x\",i,\"=\",10*i)\n",
        "for i in range(1,11,1):\n",
        "   print(\"\\n11 x\",i,\"=\",11*i)"
      ],
      "metadata": {
        "id": "ZhfRlG_OTGJg",
        "outputId": "7dbe5f02-1c51-47ec-ff8a-5162424b7cf5",
        "colab": {
          "base_uri": "https://localhost:8080/"
        }
      },
      "execution_count": 9,
      "outputs": [
        {
          "output_type": "stream",
          "name": "stdout",
          "text": [
            "2 x 1 = 2\n",
            "2 x 2 = 4\n",
            "2 x 3 = 6\n",
            "2 x 4 = 8\n",
            "2 x 5 = 10\n",
            "2 x 6 = 12\n",
            "2 x 7 = 14\n",
            "2 x 8 = 16\n",
            "2 x 9 = 18\n",
            "2 x 10 = 20\n",
            "\n",
            "3 x 1 = 3\n",
            "\n",
            "3 x 2 = 6\n",
            "\n",
            "3 x 3 = 9\n",
            "\n",
            "3 x 4 = 12\n",
            "\n",
            "3 x 5 = 15\n",
            "\n",
            "3 x 6 = 18\n",
            "\n",
            "3 x 7 = 21\n",
            "\n",
            "3 x 8 = 24\n",
            "\n",
            "3 x 9 = 27\n",
            "\n",
            "3 x 10 = 30\n",
            "\n",
            "4 x 1 = 4\n",
            "\n",
            "4 x 2 = 8\n",
            "\n",
            "4 x 3 = 12\n",
            "\n",
            "4 x 4 = 16\n",
            "\n",
            "4 x 5 = 20\n",
            "\n",
            "4 x 6 = 24\n",
            "\n",
            "4 x 7 = 28\n",
            "\n",
            "4 x 8 = 32\n",
            "\n",
            "4 x 9 = 36\n",
            "\n",
            "4 x 10 = 40\n",
            "\n",
            "5 x 1 = 5\n",
            "\n",
            "5 x 2 = 10\n",
            "\n",
            "5 x 3 = 15\n",
            "\n",
            "5 x 4 = 20\n",
            "\n",
            "5 x 5 = 25\n",
            "\n",
            "5 x 6 = 30\n",
            "\n",
            "5 x 7 = 35\n",
            "\n",
            "5 x 8 = 40\n",
            "\n",
            "5 x 9 = 45\n",
            "\n",
            "5 x 10 = 50\n",
            "\n",
            "6 x 1 = 6\n",
            "\n",
            "6 x 2 = 12\n",
            "\n",
            "6 x 3 = 18\n",
            "\n",
            "6 x 4 = 24\n",
            "\n",
            "6 x 5 = 30\n",
            "\n",
            "6 x 6 = 36\n",
            "\n",
            "6 x 7 = 42\n",
            "\n",
            "6 x 8 = 48\n",
            "\n",
            "6 x 9 = 54\n",
            "\n",
            "6 x 10 = 60\n",
            "\n",
            "7 x 1 = 7\n",
            "\n",
            "7 x 2 = 14\n",
            "\n",
            "7 x 3 = 21\n",
            "\n",
            "7 x 4 = 28\n",
            "\n",
            "7 x 5 = 35\n",
            "\n",
            "7 x 6 = 42\n",
            "\n",
            "7 x 7 = 49\n",
            "\n",
            "7 x 8 = 56\n",
            "\n",
            "7 x 9 = 63\n",
            "\n",
            "7 x 10 = 70\n",
            "\n",
            "8 x 1 = 8\n",
            "\n",
            "8 x 2 = 16\n",
            "\n",
            "8 x 3 = 24\n",
            "\n",
            "8 x 4 = 32\n",
            "\n",
            "8 x 5 = 40\n",
            "\n",
            "8 x 6 = 48\n",
            "\n",
            "8 x 7 = 56\n",
            "\n",
            "8 x 8 = 64\n",
            "\n",
            "8 x 9 = 72\n",
            "\n",
            "8 x 10 = 80\n",
            "\n",
            "9 x 1 = 9\n",
            "\n",
            "9 x 2 = 18\n",
            "\n",
            "9 x 3 = 27\n",
            "\n",
            "9 x 4 = 36\n",
            "\n",
            "9 x 5 = 45\n",
            "\n",
            "9 x 6 = 54\n",
            "\n",
            "9 x 7 = 63\n",
            "\n",
            "9 x 8 = 72\n",
            "\n",
            "9 x 9 = 81\n",
            "\n",
            "9 x 10 = 90\n",
            "\n",
            "10 x 1 = 10\n",
            "\n",
            "10 x 2 = 20\n",
            "\n",
            "10 x 3 = 30\n",
            "\n",
            "10 x 4 = 40\n",
            "\n",
            "10 x 5 = 50\n",
            "\n",
            "10 x 6 = 60\n",
            "\n",
            "10 x 7 = 70\n",
            "\n",
            "10 x 8 = 80\n",
            "\n",
            "10 x 9 = 90\n",
            "\n",
            "10 x 10 = 100\n",
            "\n",
            "11 x 1 = 11\n",
            "\n",
            "11 x 2 = 22\n",
            "\n",
            "11 x 3 = 33\n",
            "\n",
            "11 x 4 = 44\n",
            "\n",
            "11 x 5 = 55\n",
            "\n",
            "11 x 6 = 66\n",
            "\n",
            "11 x 7 = 77\n",
            "\n",
            "11 x 8 = 88\n",
            "\n",
            "11 x 9 = 99\n",
            "\n",
            "11 x 10 = 110\n"
          ]
        }
      ]
    },
    {
      "cell_type": "code",
      "source": [
        "#3\n",
        "list=['a','bc',78,1.23]\n",
        "for i in list:\n",
        "  print(i,end=\" \")\n",
        ""
      ],
      "metadata": {
        "id": "Yr7RQ7mFTI8l",
        "outputId": "8f8eb9e5-2a40-4016-ba86-51a890e66eee",
        "colab": {
          "base_uri": "https://localhost:8080/"
        }
      },
      "execution_count": 10,
      "outputs": [
        {
          "output_type": "stream",
          "name": "stdout",
          "text": [
            "a bc 78 1.23 "
          ]
        }
      ]
    }
  ]
}