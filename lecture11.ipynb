{
  "nbformat": 4,
  "nbformat_minor": 0,
  "metadata": {
    "colab": {
      "provenance": [],
      "authorship_tag": "ABX9TyPpekpZVQwRr0W6IeLeukg4",
      "include_colab_link": true
    },
    "kernelspec": {
      "name": "python3",
      "display_name": "Python 3"
    },
    "language_info": {
      "name": "python"
    }
  },
  "cells": [
    {
      "cell_type": "markdown",
      "metadata": {
        "id": "view-in-github",
        "colab_type": "text"
      },
      "source": [
        "<a href=\"https://colab.research.google.com/github/utkar-shh/python-class/blob/main/lecture11.ipynb\" target=\"_parent\"><img src=\"https://colab.research.google.com/assets/colab-badge.svg\" alt=\"Open In Colab\"/></a>"
      ]
    },
    {
      "cell_type": "code",
      "execution_count": 7,
      "metadata": {
        "colab": {
          "base_uri": "https://localhost:8080/"
        },
        "id": "SZIlBpJnLmSX",
        "outputId": "d41e8130-5a37-4a96-9e86-b4a77e683343"
      },
      "outputs": [
        {
          "name": "stdout",
          "output_type": "stream",
          "text": [
            "enter a number to calculate their factorial789\n"
          ]
        },
        {
          "output_type": "execute_result",
          "data": {
            "text/plain": [
              "9617974384062335467636723938025836267680996613950082652343863178319834560434158059407546718032910434664983796150216020671381597820925224825944980191786630929915995700908954667945472367504147105201761025118767013050924180778858199090644768703926402487768606401190800599833353345787469787718657056065358884495754337266940970268428165226832032919734447905502084021200707932361567063934728415464033979803035183584938988565496045800248819062954376858451878115766789010195182509701844482055819753301374642156124357808119828196956967797914023817075059660650835603554494552072430602930562653843776260894124014872130467295757957679256261284896932942424963878119956079754154794919222413930862628939426278097759868640819919521591387662295171258302880971075892979598620606783911687491502565028082655203477027969671257676951003388231592035211009099412114941590625418531089566050269746817958808190572466126499954414629754429970715056221588042980345165131763903755458548554816159159209730317140745533164460422141371734997562298736251082391245269554324403577524872268573355753588471013083886762925169683490481646606827685457011899748100798511761198075019485939090711581753416135312029396753421717962719095041178903529054648802025366015731541523101605512793926485100416313233535941298350540379400585748250878492887280541716394521985952270280476837962629654423080816559033879841061382951773074012742610139904876999502246782739673704643563530828713214196162463325650040939482431539574153565940237544477372401878954449443726151404830766446071822090039042550566115742947324676082207499703585798167722356039828479226049389294016764595475959705766511561091174275009434616878894970631808744514915897998759219322162947785937112563015855267915736456326359280238315329011318784000000000000000000000000000000000000000000000000000000000000000000000000000000000000000000000000000000000000000000000000000000000000000000000000000000000000000000000000000000000000000000000000000"
            ]
          },
          "metadata": {},
          "execution_count": 7
        }
      ],
      "source": [
        "#factorial\n",
        "def fact(n):\n",
        "  if(n==0):\n",
        "    return 1\n",
        "  else:\n",
        "    a=1\n",
        "    for i in range(1,n+1):\n",
        "      a=a*i\n",
        "    return a\n",
        "\n",
        "n=int(input(\"enter a number to calculate their factorial\"))\n",
        "fact(n)"
      ]
    },
    {
      "cell_type": "code",
      "source": [
        "#fibonacci series\n",
        "\n",
        "def fib(n):\n",
        "  a=0\n",
        "  b=1\n",
        "  if(n==0):\n",
        "    print(\"please enter a positive interger\")\n",
        "  elif(n==1):\n",
        "    print(a)\n",
        "  elif(n==2):\n",
        "    print(a)\n",
        "    print(b)\n",
        "  else:\n",
        "    print(a)\n",
        "    print(b)\n",
        "    c=0\n",
        "    for i in range(2,n):\n",
        "      c=a+b\n",
        "      a=b\n",
        "      print(c)\n",
        "      b=c\n",
        "\n",
        "n=int(input(\"enter how many digits of fibonacci series you want\"))\n",
        "fib(n)"
      ],
      "metadata": {
        "colab": {
          "base_uri": "https://localhost:8080/"
        },
        "id": "cJVFXylNNUen",
        "outputId": "ee951699-568c-41ca-8f6c-2b772111a1fb"
      },
      "execution_count": 24,
      "outputs": [
        {
          "output_type": "stream",
          "name": "stdout",
          "text": [
            "enter how many digits of fibonacci series you want6\n",
            "0\n",
            "1\n",
            "1\n",
            "2\n",
            "3\n",
            "5\n"
          ]
        }
      ]
    },
    {
      "cell_type": "code",
      "source": [
        "#prime and even number\n",
        "def func(n):\n",
        "  if(n%2==0 and n!=2):\n",
        "    print(\"it is not a prime number as it is divisible by 2\")\n",
        "  elif(n==1):\n",
        "    print(\"n is prime number and not even\")\n",
        "  elif(n==2):\n",
        "    print(\"n is prime number and even\")\n",
        "  else:\n",
        "    for i in range(2,n):\n",
        "      if(n%i==0):\n",
        "        print(\"n is not a prime numberand not even\")\n",
        "        break\n",
        "    else:\n",
        "        print(\"n is a prime number and not even\")\n",
        "\n",
        "n=int(input(\"enter a number to find if it is prime and even\"))\n",
        "func(n)"
      ],
      "metadata": {
        "colab": {
          "base_uri": "https://localhost:8080/"
        },
        "id": "sywuSaG6RvAp",
        "outputId": "3f997f82-08a1-4341-afda-2caf918f3bfb"
      },
      "execution_count": 54,
      "outputs": [
        {
          "output_type": "stream",
          "name": "stdout",
          "text": [
            "enter a number to find if it is prime and even79\n",
            "n is a prime number and not even\n"
          ]
        }
      ]
    },
    {
      "cell_type": "code",
      "source": [
        "def fibonacci(n):\n",
        "    if n <= 1:\n",
        "        return n\n",
        "    else:\n",
        "        return fibonacci(n-1) + fibonacci(n-2)\n",
        "\n",
        "def print_fibonacci_series(count):\n",
        "    if count <= 0:\n",
        "        print(\"Please enter a positive integer.\")\n",
        "    else:\n",
        "        print(\"Fibonacci Series:\")\n",
        "        for i in range(count):\n",
        "            print(fibonacci(i), end=\" \")\n",
        "count = int(input(\"Enter the number of terms in Fibonacci series: \"))\n",
        "print_fibonacci_series(count)"
      ],
      "metadata": {
        "colab": {
          "base_uri": "https://localhost:8080/"
        },
        "id": "heGX-7cdWTWa",
        "outputId": "5f0dfa1f-f979-4e86-ff2e-c91d8331f39b"
      },
      "execution_count": 59,
      "outputs": [
        {
          "output_type": "stream",
          "name": "stdout",
          "text": [
            "Enter the number of terms in Fibonacci series: 3\n",
            "Fibonacci Series:\n",
            "0 1 1 "
          ]
        }
      ]
    },
    {
      "cell_type": "code",
      "source": [],
      "metadata": {
        "id": "QSfKdlVZXmCu"
      },
      "execution_count": null,
      "outputs": []
    }
  ]
}