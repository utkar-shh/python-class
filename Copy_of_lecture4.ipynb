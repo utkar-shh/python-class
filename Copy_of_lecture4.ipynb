{
  "nbformat": 4,
  "nbformat_minor": 0,
  "metadata": {
    "colab": {
      "provenance": [],
      "authorship_tag": "ABX9TyOLcBUQeZYLAJAt2gzMpSgu",
      "include_colab_link": true
    },
    "kernelspec": {
      "name": "python3",
      "display_name": "Python 3"
    },
    "language_info": {
      "name": "python"
    }
  },
  "cells": [
    {
      "cell_type": "markdown",
      "metadata": {
        "id": "view-in-github",
        "colab_type": "text"
      },
      "source": [
        "<a href=\"https://colab.research.google.com/github/utkar-shh/python-class/blob/main/Copy_of_lecture4.ipynb\" target=\"_parent\"><img src=\"https://colab.research.google.com/assets/colab-badge.svg\" alt=\"Open In Colab\"/></a>"
      ]
    },
    {
      "cell_type": "code",
      "execution_count": null,
      "metadata": {
        "colab": {
          "base_uri": "https://localhost:8080/"
        },
        "id": "TAbu4_pZsUAW",
        "outputId": "e1a7feb4-b02d-4c10-d126-8ea12cb1cb4f"
      },
      "outputs": [
        {
          "output_type": "stream",
          "name": "stdout",
          "text": [
            "p\n",
            "y\n",
            "t\n",
            "h\n",
            "o\n",
            "n\n"
          ]
        }
      ],
      "source": [
        "for i in 'python':\n",
        "  print(i)\n"
      ]
    },
    {
      "cell_type": "code",
      "source": [
        "option=input(\"CHoose any option\")\n",
        "while (option!=\"quit\"):\n",
        "    if (option.upper()==\"START\"):\n",
        "     print(\"CAR started\")\n",
        "     break\n",
        "    elif (option.upper()==\"STOP\"):\n",
        "     print(\"CAR stopped\")\n",
        "     break\n",
        "    elif (option.upper()==\"HELP\"):\n",
        "     print(\n",
        "         '''\n",
        "         start - to start the car\n",
        "         stop - to stop the car\n",
        "         quit -  quit\n",
        "         '''\n",
        "     )\n",
        "     break\n",
        "    else:\n",
        "     print(\"CHoose any other option THis is invalid\")"
      ],
      "metadata": {
        "colab": {
          "base_uri": "https://localhost:8080/"
        },
        "id": "f6c3Ff2ktO3h",
        "outputId": "615da4ba-7a4c-4a41-eed3-be032e09a3c7"
      },
      "execution_count": null,
      "outputs": [
        {
          "output_type": "stream",
          "name": "stdout",
          "text": [
            "CHoose any optionstart\n",
            "CAR started\n"
          ]
        }
      ]
    }
  ]
}