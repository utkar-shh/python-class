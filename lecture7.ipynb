{
  "nbformat": 4,
  "nbformat_minor": 0,
  "metadata": {
    "colab": {
      "provenance": [],
      "authorship_tag": "ABX9TyMHsbXiGYK7clpdVptiKsbm",
      "include_colab_link": true
    },
    "kernelspec": {
      "name": "python3",
      "display_name": "Python 3"
    },
    "language_info": {
      "name": "python"
    }
  },
  "cells": [
    {
      "cell_type": "markdown",
      "metadata": {
        "id": "view-in-github",
        "colab_type": "text"
      },
      "source": [
        "<a href=\"https://colab.research.google.com/github/utkar-shh/python-class/blob/main/lecture7.ipynb\" target=\"_parent\"><img src=\"https://colab.research.google.com/assets/colab-badge.svg\" alt=\"Open In Colab\"/></a>"
      ]
    },
    {
      "cell_type": "code",
      "execution_count": 1,
      "metadata": {
        "colab": {
          "base_uri": "https://localhost:8080/"
        },
        "id": "IFZLaGJOTaKW",
        "outputId": "9d89e88b-181b-422a-b4b8-d94c6c305d79"
      },
      "outputs": [
        {
          "output_type": "stream",
          "name": "stdout",
          "text": [
            "['h', 'e', 'l', 'l', 'o', '_', 'w', 'o', 'r', 'l', 'd']\n",
            "range(0, 10)\n"
          ]
        }
      ],
      "source": [
        "#list comprehension\n",
        "#to dynamically create a list\n",
        "str1=\"hello_world\"\n",
        "list1=[i for i in str1]\n",
        "print(list1)\n",
        "numbers = range (10)\n",
        "print(numbers)"
      ]
    },
    {
      "cell_type": "code",
      "source": [
        "#dynamic2\n",
        "list=[i for i in range(40) if i%2==0]\n",
        "print(list)"
      ],
      "metadata": {
        "colab": {
          "base_uri": "https://localhost:8080/"
        },
        "id": "SOP7Hhs0UGtq",
        "outputId": "5c11d410-994b-49b4-fb81-c602ad052df9"
      },
      "execution_count": 2,
      "outputs": [
        {
          "output_type": "stream",
          "name": "stdout",
          "text": [
            "[0, 2, 4, 6, 8, 10, 12, 14, 16, 18, 20, 22, 24, 26, 28, 30, 32, 34, 36, 38]\n"
          ]
        }
      ]
    },
    {
      "cell_type": "code",
      "source": [
        "cubes=[]\n",
        "for i in range(11):\n",
        "  cubes.append(i**3)\n",
        "print(\"cubes of numbers from 1-10: \",cubes)\n"
      ],
      "metadata": {
        "colab": {
          "base_uri": "https://localhost:8080/"
        },
        "id": "2Ec0LZWfUJEm",
        "outputId": "d47c6937-a7d4-4b5e-b530-dcae3463a2b1"
      },
      "execution_count": 3,
      "outputs": [
        {
          "output_type": "stream",
          "name": "stdout",
          "text": [
            "cubes of numbers from 1-10:  [0, 1, 8, 27, 64, 125, 216, 343, 512, 729, 1000]\n"
          ]
        }
      ]
    },
    {
      "cell_type": "code",
      "source": [
        "numbers = range (10)\n",
        "print(numbers)\n",
        "\n",
        "for num in numbers:\n",
        "  print(num)"
      ],
      "metadata": {
        "colab": {
          "base_uri": "https://localhost:8080/"
        },
        "id": "E_Ud5UE3UK5V",
        "outputId": "5b940f43-c51c-47cf-c9c0-876edc23a401"
      },
      "execution_count": 4,
      "outputs": [
        {
          "output_type": "stream",
          "name": "stdout",
          "text": [
            "range(0, 10)\n",
            "0\n",
            "1\n",
            "2\n",
            "3\n",
            "4\n",
            "5\n",
            "6\n",
            "7\n",
            "8\n",
            "9\n"
          ]
        }
      ]
    },
    {
      "cell_type": "code",
      "source": [
        "list=[]\n",
        "for i in range(1,41,1):\n",
        "  if (i%2==0):\n",
        "    list.append(i)\n",
        "print(list)\n",
        ""
      ],
      "metadata": {
        "colab": {
          "base_uri": "https://localhost:8080/"
        },
        "id": "Xe75q4JyUM5_",
        "outputId": "a97914ac-ddd8-4fdd-92c9-0b418dec8dba"
      },
      "execution_count": 5,
      "outputs": [
        {
          "output_type": "stream",
          "name": "stdout",
          "text": [
            "[2, 4, 6, 8, 10, 12, 14, 16, 18, 20, 22, 24, 26, 28, 30, 32, 34, 36, 38, 40]\n"
          ]
        }
      ]
    },
    {
      "cell_type": "code",
      "source": [
        "#1\n",
        "str1=\"hello \"\n",
        "name=input(\"enter your name :\")\n",
        "str1+=name\n",
        "str1+=\" ,Welocome to python .\"\n",
        "print(str1)\n",
        "\n",
        "\n",
        "#2\n",
        "str2='hello'\n",
        "print(id(str1))\n",
        "abc=input(\"enter 2nd word\")\n",
        "str2=str2+abc\n",
        "print(str2)\n",
        "print(id(str2))"
      ],
      "metadata": {
        "colab": {
          "base_uri": "https://localhost:8080/"
        },
        "id": "ZNRqSNWuUPVQ",
        "outputId": "9109ccdd-7368-4674-dc8a-7a669cd87320"
      },
      "execution_count": 6,
      "outputs": [
        {
          "output_type": "stream",
          "name": "stdout",
          "text": [
            "enter your name :utkarsh\n",
            "hello utkarsh ,Welocome to python .\n",
            "135260731412272\n",
            "enter 2nd wordrawat\n",
            "hellorawat\n",
            "135260949616176\n"
          ]
        }
      ]
    },
    {
      "cell_type": "markdown",
      "source": [
        "SETS 1.no duplicate entries 2.{ } 3.mutABLE\n",
        "\n",
        "Dictionary\n"
      ],
      "metadata": {
        "id": "XNBDIiMlUSJF"
      }
    },
    {
      "cell_type": "code",
      "source": [
        "Dict={'Roll no' : '5001234','Name':'SIddhant','course':'Btech'}\n",
        "print(\"Dict[ROLL_NO]= \",Dict['Roll no'])\n",
        "print(\"Dict[NAME]= \",Dict['Name'])\n",
        "print(\"Dict[COURSE]= \",Dict['course'])\n",
        "print(\"\\n\",Dict)\n",
        "Dict['dept']='socs'  #adding or modifying\n",
        "print(Dict)"
      ],
      "metadata": {
        "colab": {
          "base_uri": "https://localhost:8080/"
        },
        "id": "RKRcSxHIUeNt",
        "outputId": "a01e2a53-4150-4acc-aff6-03e151189ddc"
      },
      "execution_count": 7,
      "outputs": [
        {
          "output_type": "stream",
          "name": "stdout",
          "text": [
            "Dict[ROLL_NO]=  5001234\n",
            "Dict[NAME]=  SIddhant\n",
            "Dict[COURSE]=  Btech\n",
            "\n",
            " {'Roll no': '5001234', 'Name': 'SIddhant', 'course': 'Btech'}\n",
            "{'Roll no': '5001234', 'Name': 'SIddhant', 'course': 'Btech', 'dept': 'socs'}\n"
          ]
        }
      ]
    },
    {
      "cell_type": "markdown",
      "source": [
        "1.WAP to check or to append the no's in a list and after that print every no whetehrr it is even or odd for every no. 2.take string welcome to the world of python and put in a list 3.WAP to create a tuple and add 10 values be it string and print all those values using a for loop"
      ],
      "metadata": {
        "id": "V6lhHa1BUhYG"
      }
    },
    {
      "cell_type": "code",
      "source": [
        "list=[]\n",
        "list2=[]\n",
        "list3=[]\n",
        "for i in range(5):\n",
        "  num=input(\"enter the no to append in list :\")\n",
        "  list.append(num)\n",
        "print(list)\n",
        "k=0\n",
        "while(k<5):\n",
        " if list[k]%2==0:\n",
        "    print(\"even element is : \",list[k])\n",
        "    list2.append(list[k])\n",
        "    k+=1\n",
        "    print(\"list2 is : \",list2)\n",
        " else:\n",
        "    print(\"odd element is : \",list[k])\n",
        "    list3.append(list[k])\n",
        "    k+=1\n",
        "    print(\"list3 is : \",list3)"
      ],
      "metadata": {
        "id": "d3Mh4Fa1UxGq"
      },
      "execution_count": null,
      "outputs": []
    }
  ]
}