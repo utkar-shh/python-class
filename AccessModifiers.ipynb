{
  "nbformat": 4,
  "nbformat_minor": 0,
  "metadata": {
    "colab": {
      "provenance": [],
      "authorship_tag": "ABX9TyMVd/kG3q/qOXdLJlM5yITB",
      "include_colab_link": true
    },
    "kernelspec": {
      "name": "python3",
      "display_name": "Python 3"
    },
    "language_info": {
      "name": "python"
    }
  },
  "cells": [
    {
      "cell_type": "markdown",
      "metadata": {
        "id": "view-in-github",
        "colab_type": "text"
      },
      "source": [
        "<a href=\"https://colab.research.google.com/github/utkar-shh/python-class/blob/main/AccessModifiers.ipynb\" target=\"_parent\"><img src=\"https://colab.research.google.com/assets/colab-badge.svg\" alt=\"Open In Colab\"/></a>"
      ]
    },
    {
      "cell_type": "markdown",
      "source": [
        "ACCESS MODIFIERS. 1.PUBLIC 2.PRIVATE 3.PROTECTED"
      ],
      "metadata": {
        "id": "6FqS8Cg4GsCh"
      }
    },
    {
      "cell_type": "code",
      "source": [
        "#note that whan a module is imported in other file if we dont want orwhich we want or not to execute we can use\n",
        "def welcome():\n",
        "  print(\"Good morning engineers\")\n",
        "\n",
        "__name__=\"__main__\"\n",
        "welcome()"
      ],
      "metadata": {
        "id": "wWOKFsTWGuTf"
      },
      "execution_count": null,
      "outputs": []
    },
    {
      "cell_type": "code",
      "source": [
        "#def _ _show(self):   this is a private function.\n",
        "#def _show(self):     this is a protected function syntax."
      ],
      "metadata": {
        "id": "wBUG7fRQGuuP"
      },
      "execution_count": null,
      "outputs": []
    },
    {
      "cell_type": "code",
      "source": [
        "#Public class\n",
        "class Employee:\n",
        "  Name=\"sajid\"\n",
        "  Email=\"Xyz\"\n",
        "  def __init__(self):\n",
        "    print(self.Name)\n",
        "  def deptt(self):\n",
        "    pass\n",
        "E1=Employee()\n",
        "E1.Name\n",
        "E1.Email"
      ],
      "metadata": {
        "colab": {
          "base_uri": "https://localhost:8080/",
          "height": 53
        },
        "id": "q8bcP-GcGxq8",
        "outputId": "a5868675-c828-45c1-a276-bf802a073dcb"
      },
      "execution_count": 1,
      "outputs": [
        {
          "output_type": "stream",
          "name": "stdout",
          "text": [
            "sajid\n"
          ]
        },
        {
          "output_type": "execute_result",
          "data": {
            "text/plain": [
              "'Xyz'"
            ],
            "application/vnd.google.colaboratory.intrinsic+json": {
              "type": "string"
            }
          },
          "metadata": {},
          "execution_count": 1
        }
      ]
    },
    {
      "cell_type": "code",
      "source": [
        "#Private class\n",
        "class Employee:\n",
        "  __Name=\"sajid\"\n",
        "  __Email=\"Xyz\"\n",
        "  def __init__(self):\n",
        "    print(self.__Name)\n",
        "  def __deptt(self):\n",
        "    print(self.Name)\n",
        "E2=Employee()\n",
        "#E2.__Name    error as name is private\n",
        "#E2.__Email\n",
        "E2._Employee__Name    #to access private data\n",
        "#E2._Employee()__Name"
      ],
      "metadata": {
        "colab": {
          "base_uri": "https://localhost:8080/",
          "height": 53
        },
        "id": "xjbBEtR5G3bg",
        "outputId": "0cc1da26-5ac2-4133-9d95-2dde51ae1150"
      },
      "execution_count": 2,
      "outputs": [
        {
          "output_type": "stream",
          "name": "stdout",
          "text": [
            "sajid\n"
          ]
        },
        {
          "output_type": "execute_result",
          "data": {
            "text/plain": [
              "'sajid'"
            ],
            "application/vnd.google.colaboratory.intrinsic+json": {
              "type": "string"
            }
          },
          "metadata": {},
          "execution_count": 2
        }
      ]
    }
  ]
}