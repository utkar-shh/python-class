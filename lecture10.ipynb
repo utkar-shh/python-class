{
  "nbformat": 4,
  "nbformat_minor": 0,
  "metadata": {
    "colab": {
      "provenance": [],
      "authorship_tag": "ABX9TyOBtSHvO7f9NTGqFBpj3mg5",
      "include_colab_link": true
    },
    "kernelspec": {
      "name": "python3",
      "display_name": "Python 3"
    },
    "language_info": {
      "name": "python"
    }
  },
  "cells": [
    {
      "cell_type": "markdown",
      "metadata": {
        "id": "view-in-github",
        "colab_type": "text"
      },
      "source": [
        "<a href=\"https://colab.research.google.com/github/utkar-shh/python-class/blob/main/lecture10.ipynb\" target=\"_parent\"><img src=\"https://colab.research.google.com/assets/colab-badge.svg\" alt=\"Open In Colab\"/></a>"
      ]
    },
    {
      "cell_type": "code",
      "execution_count": 3,
      "metadata": {
        "colab": {
          "base_uri": "https://localhost:8080/"
        },
        "id": "Wgybs8_CtkWh",
        "outputId": "a13afacf-9328-454b-b0a6-5ebd5b28bb52"
      },
      "outputs": [
        {
          "output_type": "stream",
          "name": "stdout",
          "text": [
            "{'this': 1, 'is': 1, 'the': 2, 'sample': 1, 'sentence': 1, 'to': 1, 'demonstrate': 1, 'word': 1, 'count': 1, 'function': 1}\n"
          ]
        }
      ],
      "source": [
        "def count_words(sentence):\n",
        "    cleaned_sentence = sentence.lower().replace(\",\", \"\").replace(\".\", \"\")\n",
        "    words = cleaned_sentence.split()\n",
        "    word_count = {}\n",
        "    for word in words:\n",
        "        if word in word_count:\n",
        "            word_count[word] += 1\n",
        "        else:\n",
        "            word_count[word] = 1\n",
        "    return word_count\n",
        "\n",
        "sentence = \"This is the sample sentence to demonstrate the word count function.\"\n",
        "word_count_dict = count_words(sentence)\n",
        "print(word_count_dict)\n"
      ]
    }
  ]
}