{
  "nbformat": 4,
  "nbformat_minor": 0,
  "metadata": {
    "colab": {
      "provenance": [],
      "authorship_tag": "ABX9TyN4P2NR2uieawnDuSj1qdbn",
      "include_colab_link": true
    },
    "kernelspec": {
      "name": "python3",
      "display_name": "Python 3"
    },
    "language_info": {
      "name": "python"
    }
  },
  "cells": [
    {
      "cell_type": "markdown",
      "metadata": {
        "id": "view-in-github",
        "colab_type": "text"
      },
      "source": [
        "<a href=\"https://colab.research.google.com/github/utkar-shh/python-class/blob/main/lecture2.ipynb\" target=\"_parent\"><img src=\"https://colab.research.google.com/assets/colab-badge.svg\" alt=\"Open In Colab\"/></a>"
      ]
    },
    {
      "cell_type": "code",
      "execution_count": 1,
      "metadata": {
        "colab": {
          "base_uri": "https://localhost:8080/"
        },
        "id": "UvPOsF1uHJnT",
        "outputId": "3c8231a6-27d2-44e6-84ad-4fc69e08cc36"
      },
      "outputs": [
        {
          "output_type": "stream",
          "name": "stdout",
          "text": [
            "5\n"
          ]
        }
      ],
      "source": [
        "val1=2\n",
        "val2=3\n",
        "#using the addition operator\n",
        "res=val1+val2\n",
        "print(res)\n",
        "\n",
        ""
      ]
    },
    {
      "cell_type": "code",
      "source": [
        "#operators\n",
        "a=4\n",
        "b=2\n",
        "c=a/b\n",
        "d=a//b\n",
        "e=a**b\n",
        "f=a*b\n",
        "g=a\n",
        "print(\"c is \" + str(c))\n",
        "print(\"d is \" +str(d) +\"\\ne is\"+ str(e))\n"
      ],
      "metadata": {
        "colab": {
          "base_uri": "https://localhost:8080/"
        },
        "id": "E-FtsWNvHU6c",
        "outputId": "c71c023d-616d-4703-f2b4-bb9be1389eee"
      },
      "execution_count": 2,
      "outputs": [
        {
          "output_type": "stream",
          "name": "stdout",
          "text": [
            "c is 2.0\n",
            "d is 2\n",
            "e is16\n"
          ]
        }
      ]
    },
    {
      "cell_type": "code",
      "source": [
        "#LOgical operators\n",
        "a=3\n",
        "if not(a) :\n",
        "  print(\"boolean value of a is true\")\n",
        "if not(a%3 or a%10) :\n",
        "  print(\"boolean is ture\")\n",
        "else :\n",
        "  print(\"bool is true  \")"
      ],
      "metadata": {
        "colab": {
          "base_uri": "https://localhost:8080/"
        },
        "id": "EL8V5XSDH3Uq",
        "outputId": "04637edf-ea82-499b-f472-4145cd3103d9"
      },
      "execution_count": 3,
      "outputs": [
        {
          "output_type": "stream",
          "name": "stdout",
          "text": [
            "bool is true  \n"
          ]
        }
      ]
    },
    {
      "cell_type": "code",
      "source": [
        "#bitwise operators\n",
        "a=10\n",
        "b=4\n",
        "print(\"a&b= \",a&b)\n",
        "print(\"a\\b=\",a|b)\n",
        "print(\"~a=\",~a)\n",
        "print(\"a^b=\",a^b)\n"
      ],
      "metadata": {
        "colab": {
          "base_uri": "https://localhost:8080/"
        },
        "id": "c3QTnJDkIJ9y",
        "outputId": "92c5b8e9-9f07-4291-8fcc-6fb83b630d45"
      },
      "execution_count": 4,
      "outputs": [
        {
          "output_type": "stream",
          "name": "stdout",
          "text": [
            "a&b=  0\n",
            "a\b= 14\n",
            "~a= -11\n",
            "a^b= 14\n"
          ]
        }
      ]
    },
    {
      "cell_type": "code",
      "source": [
        "#Assignmnet operator\n",
        "a=10\n",
        "b=a\n",
        "b+=a\n",
        "b*=a\n",
        "b/=a\n",
        "print(b)\n"
      ],
      "metadata": {
        "colab": {
          "base_uri": "https://localhost:8080/"
        },
        "id": "S1oAZYrfIYCH",
        "outputId": "8fc8d5cb-80cb-4cdb-e7d7-0f09ac29ed3c"
      },
      "execution_count": 5,
      "outputs": [
        {
          "output_type": "stream",
          "name": "stdout",
          "text": [
            "20.0\n"
          ]
        }
      ]
    }
  ]
}