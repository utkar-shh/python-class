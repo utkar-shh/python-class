{
  "nbformat": 4,
  "nbformat_minor": 0,
  "metadata": {
    "colab": {
      "provenance": [],
      "authorship_tag": "ABX9TyO985YqKhuhu7Irr4pfakGf",
      "include_colab_link": true
    },
    "kernelspec": {
      "name": "python3",
      "display_name": "Python 3"
    },
    "language_info": {
      "name": "python"
    }
  },
  "cells": [
    {
      "cell_type": "markdown",
      "metadata": {
        "id": "view-in-github",
        "colab_type": "text"
      },
      "source": [
        "<a href=\"https://colab.research.google.com/github/utkar-shh/python-class/blob/main/lecture9.ipynb\" target=\"_parent\"><img src=\"https://colab.research.google.com/assets/colab-badge.svg\" alt=\"Open In Colab\"/></a>"
      ]
    },
    {
      "cell_type": "code",
      "execution_count": null,
      "metadata": {
        "colab": {
          "base_uri": "https://localhost:8080/"
        },
        "id": "gCGv836BhXaT",
        "outputId": "7c980e23-19a0-4148-e192-857201621f21"
      },
      "outputs": [
        {
          "output_type": "stream",
          "name": "stdout",
          "text": [
            "start\t \n",
            "welcome to python Siddhant\n",
            "python is easy\n",
            "Finish\n",
            "Finish1\n"
          ]
        }
      ],
      "source": [
        "def func_1(name):\n",
        "  print(f\"welcome to python {name}\")\n",
        "  print(\"python is easy\")\n",
        "\n",
        "print(\"start\\t \")\n",
        "func_1(\"Siddhant\")\n",
        "print(\"Finish\")\n",
        "print(\"Finish1\")"
      ]
    },
    {
      "cell_type": "code",
      "source": [
        "def Calc(a,b,c):\n",
        " if c=='+':\n",
        "  add=a+b\n",
        "  print(\"addition is \",add)\n",
        " elif c=='-':\n",
        "  sub=a-b\n",
        "  print(\"subtraction is \",sub)\n",
        " elif c=='*':\n",
        "  mul=a*b\n",
        "  print(\"Multiply is \",mul)\n",
        " elif c=='/':\n",
        "  div=a/b\n",
        "  print(\"division is \",div)\n",
        "\n",
        "a=int(input(\"enter no 1 : \"))\n",
        "b=int(input(\"enter no 2 : \"))\n",
        "c=(input(\"ENter the operation\"))\n",
        "Calc(a,b,c)"
      ],
      "metadata": {
        "colab": {
          "base_uri": "https://localhost:8080/"
        },
        "id": "_4kyg3mrhlPk",
        "outputId": "a6966aec-6036-4398-ae76-9575be1aac03"
      },
      "execution_count": null,
      "outputs": [
        {
          "output_type": "stream",
          "name": "stdout",
          "text": [
            "enter no 1 : 56\n",
            "enter no 2 : 54\n",
            "ENter the operation*\n",
            "Multiply is  3024\n"
          ]
        }
      ]
    },
    {
      "cell_type": "code",
      "source": [
        "#WAF to check given year is leap year\n",
        "def leap(year):\n",
        "  if year%4==0 and year%100!=0 or year%400==0:\n",
        "    print(\"it's a leap year\")\n",
        "  else :\n",
        "    print(\"year is not leap year\")\n",
        "years=int(input(\"enter year : \"))\n",
        "leap(years)"
      ],
      "metadata": {
        "colab": {
          "base_uri": "https://localhost:8080/"
        },
        "id": "sqLxwYFKh7yO",
        "outputId": "202584cc-25c6-4583-c62e-03fdaa14f6e5"
      },
      "execution_count": null,
      "outputs": [
        {
          "output_type": "stream",
          "name": "stdout",
          "text": [
            "enter year : 2003\n",
            "year is not leap year\n"
          ]
        }
      ]
    },
    {
      "cell_type": "markdown",
      "source": [
        "Define fucn to find largest elemnet in list."
      ],
      "metadata": {
        "id": "2GoNt8X_jkCh"
      }
    },
    {
      "cell_type": "code",
      "source": [
        "def large():\n",
        "   i=0\n",
        "   a=list[0]\n",
        "   while(i<5):\n",
        "      if list[i]>list[i+1]:\n",
        "        a=list[i]\n",
        "      i+=1\n",
        "\n",
        "      else:\n",
        "        a=list[i+1]\n",
        "      i+=1\n",
        "\n",
        "   return a\n",
        "\n",
        "list=[1,3,8,4,5]\n",
        "a=large()\n",
        "print(\"largest no is\",a)"
      ],
      "metadata": {
        "id": "2qLXamoUjmM3",
        "outputId": "33228a73-9a3e-4e0c-9b6f-e4b2f891e73d",
        "colab": {
          "base_uri": "https://localhost:8080/",
          "height": 140
        }
      },
      "execution_count": 29,
      "outputs": [
        {
          "output_type": "error",
          "ename": "SyntaxError",
          "evalue": "invalid syntax (<ipython-input-29-2d4510e16c90>, line 9)",
          "traceback": [
            "\u001b[0;36m  File \u001b[0;32m\"<ipython-input-29-2d4510e16c90>\"\u001b[0;36m, line \u001b[0;32m9\u001b[0m\n\u001b[0;31m    else:\u001b[0m\n\u001b[0m    ^\u001b[0m\n\u001b[0;31mSyntaxError\u001b[0m\u001b[0;31m:\u001b[0m invalid syntax\n"
          ]
        }
      ]
    },
    {
      "cell_type": "code",
      "source": [],
      "metadata": {
        "id": "5JOOoOuSq71-"
      },
      "execution_count": null,
      "outputs": []
    }
  ]
}