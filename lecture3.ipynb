{
  "nbformat": 4,
  "nbformat_minor": 0,
  "metadata": {
    "colab": {
      "provenance": [],
      "authorship_tag": "ABX9TyO3XjzU3U1AWtJG1DnUL/pY",
      "include_colab_link": true
    },
    "kernelspec": {
      "name": "python3",
      "display_name": "Python 3"
    },
    "language_info": {
      "name": "python"
    }
  },
  "cells": [
    {
      "cell_type": "markdown",
      "metadata": {
        "id": "view-in-github",
        "colab_type": "text"
      },
      "source": [
        "<a href=\"https://colab.research.google.com/github/utkar-shh/python-class/blob/main/lecture3.ipynb\" target=\"_parent\"><img src=\"https://colab.research.google.com/assets/colab-badge.svg\" alt=\"Open In Colab\"/></a>"
      ]
    },
    {
      "cell_type": "code",
      "execution_count": null,
      "metadata": {
        "colab": {
          "base_uri": "https://localhost:8080/"
        },
        "id": "2rCZhFQ5Iog7",
        "outputId": "8e6c5d81-b719-4b75-e55d-dbfd50f28223"
      },
      "outputs": [
        {
          "output_type": "stream",
          "name": "stdout",
          "text": [
            "enter the temperature: 60\n",
            "False\n",
            "True\n",
            "True\n"
          ]
        }
      ],
      "source": [
        "temp=int(input(\"enter the temperature: \"))\n",
        "print(temp <=50 and temp >=30)\n",
        "print(temp <  40 or temp>=30)\n",
        "print(not temp == 40)\n"
      ]
    },
    {
      "cell_type": "code",
      "source": [
        "temp=float(input(\"enter any no\"))\n",
        "if temp>=40:\n",
        "  print(\"its too hot today\")\n",
        "  print(\"take fluids\")\n",
        "  print(\"take fluids\")"
      ],
      "metadata": {
        "colab": {
          "base_uri": "https://localhost:8080/"
        },
        "id": "RJg-pXxZJDGy",
        "outputId": "b232d670-dd74-4a08-ddb5-0a88c28d72be"
      },
      "execution_count": null,
      "outputs": [
        {
          "output_type": "stream",
          "name": "stdout",
          "text": [
            "enter any no89\n",
            "its too hot today\n",
            "take fluids\n",
            "take fluids\n"
          ]
        }
      ]
    },
    {
      "cell_type": "code",
      "source": [
        "spcl=input(\"Enter the specialisation you want to take\")\n",
        "print(\"CHoose any one from below given ones\")\n",
        "print(\"AI ML\")\n",
        "print(\"DEV OPS\")\n",
        "print(\"CCVT\")\n",
        "print(\"DATA SCIENCE\")\n",
        "print(\"FULL STACK\")\n",
        "if spcl==\"AI ML\":\n",
        " print(\"your Specialisation is AI ML\")\n",
        "elif spcl==\"DEV OPS\":\n",
        " print(\"your Specialisation is Devops\")\n",
        "elif spcl==\"CCVT\":\n",
        " print(\"your Specialisation is CCVT\")\n",
        "elif spcl==\"DATA SCIENCE\":\n",
        " print(\"your Specialisation is DATA Science\")\n",
        "elif spcl==\"FULL STACK\":\n",
        " print(\"your specilisation is FULL STACK\")\n"
      ],
      "metadata": {
        "colab": {
          "base_uri": "https://localhost:8080/"
        },
        "id": "cN31dU_SJKTa",
        "outputId": "2902b40a-b80f-4ba4-9e79-86615b301445"
      },
      "execution_count": null,
      "outputs": [
        {
          "output_type": "stream",
          "name": "stdout",
          "text": [
            "Enter the specialisation you want to takeccvt\n",
            "CHoose any one from below given ones\n",
            "AI ML\n",
            "DEV OPS\n",
            "CCVT\n",
            "DATA SCIENCE\n",
            "FULL STACK\n"
          ]
        }
      ]
    },
    {
      "cell_type": "code",
      "source": [
        "weight=float(input(\"enter the weight : \"))\n",
        "unit=input(\"K(g) or L(bs)\")           #\n",
        "if unit.upper()==\"K\":\n",
        "  weight=weight//0.45  #converting weight from k to l\n",
        "  print(\"The output in lbs is : \",weight)\n",
        "else:\n",
        "  weight=weight*0.45\n",
        "  print(\"the output in kg is: \",weight)\n"
      ],
      "metadata": {
        "colab": {
          "base_uri": "https://localhost:8080/"
        },
        "id": "qM3iEOJiJXO-",
        "outputId": "c3c2a1e5-f1ba-48e2-9a1c-4e95af44dcd1"
      },
      "execution_count": null,
      "outputs": [
        {
          "output_type": "stream",
          "name": "stdout",
          "text": [
            "enter the weight : 89\n",
            "K(g) or L(bs)k\n",
            "The output in lbs is :  197.0\n"
          ]
        }
      ]
    },
    {
      "cell_type": "code",
      "source": [
        "weight=float(input(\"enter the weight : \"))\n",
        "unit=input(\"enter k or g :\")         #\n",
        "if unit.upper()==\"K\":\n",
        "  weight=weight*1000  #converting weight from kg to g\n",
        "  print(\"The output in gram is : \",weight)\n",
        "\n",
        "elif unit.upper()==\"G\":\n",
        "  weight=weight/1000\n",
        "  print(\"THe output in kg is\", weight)\n",
        "else:\n",
        "  print(\"wrong input\")"
      ],
      "metadata": {
        "colab": {
          "base_uri": "https://localhost:8080/"
        },
        "id": "EVXpwUuLJdw0",
        "outputId": "ee004aa8-92f5-47c3-c84d-1cef90964ca2"
      },
      "execution_count": null,
      "outputs": [
        {
          "output_type": "stream",
          "name": "stdout",
          "text": [
            "enter the weight : 78\n",
            "enter k or g :k\n",
            "The output in gram is :  78000.0\n"
          ]
        }
      ]
    },
    {
      "cell_type": "code",
      "source": [
        "i=0\n",
        "while(i<=10):\n",
        "  print(i*'*',end=' ') #use end to print in same line\n",
        "  print(i*'*') #use end to print in same line\n",
        "  print(i*'*') #use end to print in same line\n",
        "  i+=1"
      ],
      "metadata": {
        "colab": {
          "base_uri": "https://localhost:8080/"
        },
        "id": "4IyVu8f_Jiy9",
        "outputId": "5a8d271f-cb2b-4a0d-ccec-ec7c5b84cef3"
      },
      "execution_count": null,
      "outputs": [
        {
          "output_type": "stream",
          "name": "stdout",
          "text": [
            " \n",
            "\n",
            "* *\n",
            "*\n",
            "** **\n",
            "**\n",
            "*** ***\n",
            "***\n",
            "**** ****\n",
            "****\n",
            "***** *****\n",
            "*****\n",
            "****** ******\n",
            "******\n",
            "******* *******\n",
            "*******\n",
            "******** ********\n",
            "********\n",
            "********* *********\n",
            "*********\n",
            "********** **********\n",
            "**********\n"
          ]
        }
      ]
    },
    {
      "cell_type": "code",
      "source": [
        "v=23\n",
        "a=int(input(\"Enter no.\"))\n",
        "g=0\n",
        "\n",
        "if a == v:\n",
        "  print(\"User wins\")\n",
        "else:\n",
        "  for i in range(0, 3,1):\n",
        "      b=int(input(\"Enter no.\"))\n",
        "      print('incorrect guess')"
      ],
      "metadata": {
        "colab": {
          "base_uri": "https://localhost:8080/"
        },
        "id": "3ixy_XQfJtep",
        "outputId": "43a44ce2-eeab-4fa6-af5a-2e6ad023bd0f"
      },
      "execution_count": null,
      "outputs": [
        {
          "output_type": "stream",
          "name": "stdout",
          "text": [
            "Enter no.67\n",
            "Enter no.67\n",
            "incorrect guess\n",
            "Enter no.34\n",
            "incorrect guess\n",
            "Enter no.67\n",
            "incorrect guess\n"
          ]
        }
      ]
    },
    {
      "cell_type": "code",
      "source": [
        "for i in \"python\":\n",
        "  print(i)\n",
        " # print(i,end=\"\")\n",
        "\n"
      ],
      "metadata": {
        "colab": {
          "base_uri": "https://localhost:8080/"
        },
        "id": "JcDus0YuJ2GZ",
        "outputId": "33e326dd-0843-4011-f20b-cd30d02f3871"
      },
      "execution_count": null,
      "outputs": [
        {
          "output_type": "stream",
          "name": "stdout",
          "text": [
            "p\n",
            "y\n",
            "t\n",
            "h\n",
            "o\n",
            "n\n"
          ]
        }
      ]
    }
  ]
}