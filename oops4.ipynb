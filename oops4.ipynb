{
  "nbformat": 4,
  "nbformat_minor": 0,
  "metadata": {
    "colab": {
      "provenance": [],
      "authorship_tag": "ABX9TyO/aUGT0AKerYaQdpcKQL3z",
      "include_colab_link": true
    },
    "kernelspec": {
      "name": "python3",
      "display_name": "Python 3"
    },
    "language_info": {
      "name": "python"
    }
  },
  "cells": [
    {
      "cell_type": "markdown",
      "metadata": {
        "id": "view-in-github",
        "colab_type": "text"
      },
      "source": [
        "<a href=\"https://colab.research.google.com/github/utkar-shh/python-class/blob/main/oops4.ipynb\" target=\"_parent\"><img src=\"https://colab.research.google.com/assets/colab-badge.svg\" alt=\"Open In Colab\"/></a>"
      ]
    },
    {
      "cell_type": "code",
      "source": [
        "#abstract class is that which is only decalred but not implemented.\n",
        "'''import abc\n",
        "from abc import ABC,abstract method\n",
        "class Shapes(ABC):      abstract method.\n",
        "  def Sides(self):\n",
        "    pass\n",
        "  def area(self):\n",
        "    print(\" \")\n",
        "class Triangle(shapes):\n",
        "  def Sides(def):\n",
        "    print(\" i have three sides)\n",
        "  def area(self):                    method overwriting as area declared in shapes already\n",
        "    print(\"something\")\n",
        "    print(\"area\")'''"
      ],
      "metadata": {
        "id": "r1kP3BSdGXlq"
      },
      "execution_count": null,
      "outputs": []
    },
    {
      "cell_type": "markdown",
      "source": [
        "POLYMORPHISM. ek hi method ko do form se call krna"
      ],
      "metadata": {
        "id": "hjQS0LypGYQj"
      }
    },
    {
      "cell_type": "code",
      "source": [
        "\n",
        "'''class Triangle(shapes):\n",
        "  def Sides(def):\n",
        "    print(\" i have three sides\")\n",
        "  def area(self):\n",
        "    print(\"something\")\n",
        "    print(\"area\")                      method overloading means diff no of variables means depend on no of variables.\n",
        "  def area(Self,side)\n",
        "    area=side*side\n",
        "    print(area)"
      ],
      "metadata": {
        "id": "tcYLirZZGaQV"
      },
      "execution_count": null,
      "outputs": []
    }
  ]
}