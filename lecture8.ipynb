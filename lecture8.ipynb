{
  "nbformat": 4,
  "nbformat_minor": 0,
  "metadata": {
    "colab": {
      "provenance": [],
      "authorship_tag": "ABX9TyOsEn1RF9Vfaf1Efn3jAIgZ",
      "include_colab_link": true
    },
    "kernelspec": {
      "name": "python3",
      "display_name": "Python 3"
    },
    "language_info": {
      "name": "python"
    }
  },
  "cells": [
    {
      "cell_type": "markdown",
      "metadata": {
        "id": "view-in-github",
        "colab_type": "text"
      },
      "source": [
        "<a href=\"https://colab.research.google.com/github/utkar-shh/python-class/blob/main/lecture8.ipynb\" target=\"_parent\"><img src=\"https://colab.research.google.com/assets/colab-badge.svg\" alt=\"Open In Colab\"/></a>"
      ]
    },
    {
      "cell_type": "code",
      "execution_count": null,
      "metadata": {
        "colab": {
          "base_uri": "https://localhost:8080/"
        },
        "id": "ZD0jWgBZDOJ8",
        "outputId": "e49b7051-f35d-44a2-8d42-7bd85348f53a"
      },
      "outputs": [
        {
          "output_type": "stream",
          "name": "stdout",
          "text": [
            "[1, 2, 3, 4, 1, 2, 3, 4, 'H', 'E', 'l', 'l', 'o']\n",
            "True\n",
            "False\n"
          ]
        }
      ],
      "source": [
        "lst=(1,2,3,4)\n",
        "str=\"HEllo\"\n",
        "list=[1,2,3,4,]\n",
        "list.extend(lst)\n",
        "list.extend(str)\n",
        "print(list)\n",
        "print('H' in str)\n",
        "print('H' in \"hello\")"
      ]
    },
    {
      "cell_type": "code",
      "source": [
        "#WAP to swap 1st and last element of the list\n",
        "list=[1,2,3,4,5,6]\n",
        "k=list[0]\n",
        "list[0]=list[5]\n",
        "list[5]=k\n",
        "print(list)\n",
        "list=['a','b','c','d']\n",
        "k=\n",
        "print(list)"
      ],
      "metadata": {
        "id": "5uvQfuWfDyUF"
      },
      "execution_count": null,
      "outputs": []
    },
    {
      "cell_type": "code",
      "source": [
        "#WAP to create a list that stores inly the prime no.s\n",
        "list=[]\n",
        "k=2\n",
        "for i in range(0,100):\n",
        "  if i%k!=0 :\n",
        "    list.append(i)\n",
        "    i+=1\n",
        "    k+=1\n",
        "  elif i%k==0:\n",
        "    i+=1\n",
        "  else:\n",
        "    print(\"ik\")\n",
        "print(list)"
      ],
      "metadata": {
        "colab": {
          "base_uri": "https://localhost:8080/"
        },
        "id": "8BpMYGWWDy5J",
        "outputId": "5a35a970-342a-4425-c435-2d0656158785"
      },
      "execution_count": null,
      "outputs": [
        {
          "output_type": "stream",
          "name": "stdout",
          "text": [
            "[1, 2, 3, 4, 5, 6, 7, 8, 9, 10, 11, 12, 13, 14, 15, 16, 17, 18, 19, 20, 21, 22, 23, 24, 25, 26, 27, 28, 29, 30, 31, 32, 33, 34, 35, 36, 37, 38, 39, 40, 41, 42, 43, 44, 45, 46, 47, 48, 49, 50, 51, 52, 53, 54, 55, 56, 57, 58, 59, 60, 61, 62, 63, 64, 65, 66, 67, 68, 69, 70, 71, 72, 73, 74, 75, 76, 77, 78, 79, 80, 81, 82, 83, 84, 85, 86, 87, 88, 89, 90, 91, 92, 93, 94, 95, 96, 97, 98, 99]\n"
          ]
        }
      ]
    },
    {
      "cell_type": "code",
      "source": [
        "#WAP to random no in a list and find the largest no.\n",
        "lst=[]\n",
        "for i in  range(5):\n",
        "  k=int(input(\"enter no\"))\n",
        "  lst.append(k)\n",
        "print(lst)\n",
        "i=0\n",
        "while(i in lst):\n",
        "  if lst[i]>=lst[i+1]:\n",
        "    large=lst[i]\n",
        "    i+=1\n",
        "  else:\n",
        "    large=lst[i+1]\n",
        "    i+=1\n",
        "print(large)"
      ],
      "metadata": {
        "id": "kBM8_cCJEeYR"
      },
      "execution_count": null,
      "outputs": []
    }
  ]
}