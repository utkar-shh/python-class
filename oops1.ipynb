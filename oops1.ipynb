{
  "nbformat": 4,
  "nbformat_minor": 0,
  "metadata": {
    "colab": {
      "provenance": [],
      "authorship_tag": "ABX9TyMZbGbZiFWwsoNpnJ7/KG14",
      "include_colab_link": true
    },
    "kernelspec": {
      "name": "python3",
      "display_name": "Python 3"
    },
    "language_info": {
      "name": "python"
    }
  },
  "cells": [
    {
      "cell_type": "markdown",
      "metadata": {
        "id": "view-in-github",
        "colab_type": "text"
      },
      "source": [
        "<a href=\"https://colab.research.google.com/github/utkar-shh/python-class/blob/main/oops1.ipynb\" target=\"_parent\"><img src=\"https://colab.research.google.com/assets/colab-badge.svg\" alt=\"Open In Colab\"/></a>"
      ]
    },
    {
      "cell_type": "markdown",
      "source": [
        "OBJECT ORIENTED PROGRAMMING"
      ],
      "metadata": {
        "id": "gyn7t6gtT2uE"
      }
    },
    {
      "cell_type": "code",
      "source": [
        "class car:\n",
        "  def car_speed(self):     #it is used for  by default  value assign.\n",
        "    print(\"speed is 80km per hour\")\n",
        "  def car_variant(self):\n",
        "    print(\"diesel 1.4turbo\")\n",
        "  def showcarmodel(model):\n",
        "    print(model)\n",
        "\n",
        "A=car()\n",
        "A.car_speed()\n"
      ],
      "metadata": {
        "colab": {
          "base_uri": "https://localhost:8080/"
        },
        "id": "rVdnT6xVT7Hn",
        "outputId": "22ae8627-5a0e-4786-c4dd-e1dcea636b28"
      },
      "execution_count": 1,
      "outputs": [
        {
          "output_type": "stream",
          "name": "stdout",
          "text": [
            "speed is 80km per hour\n"
          ]
        }
      ]
    }
  ]
}