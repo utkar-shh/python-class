{
  "nbformat": 4,
  "nbformat_minor": 0,
  "metadata": {
    "colab": {
      "provenance": [],
      "authorship_tag": "ABX9TyPP7A4227E1s0Y/jpgTEiIo",
      "include_colab_link": true
    },
    "kernelspec": {
      "name": "python3",
      "display_name": "Python 3"
    },
    "language_info": {
      "name": "python"
    }
  },
  "cells": [
    {
      "cell_type": "markdown",
      "metadata": {
        "id": "view-in-github",
        "colab_type": "text"
      },
      "source": [
        "<a href=\"https://colab.research.google.com/github/utkar-shh/python-class/blob/main/oops3.ipynb\" target=\"_parent\"><img src=\"https://colab.research.google.com/assets/colab-badge.svg\" alt=\"Open In Colab\"/></a>"
      ]
    },
    {
      "cell_type": "code",
      "source": [
        "class student:\n",
        "  def __init__(self,n,I):   #constructor of class\n",
        "    self.name=n\n",
        "    self.Id=I\n",
        "def info(self):\n",
        "  print(self.name,self.Id)\n",
        "\n",
        "c1=student(\"Sajid\",40004003)\n",
        "c1=student(\"Nadim\",40007820)\n",
        "c2.info()"
      ],
      "metadata": {
        "id": "BQF1dojdVa97"
      },
      "execution_count": null,
      "outputs": []
    },
    {
      "cell_type": "code",
      "source": [
        "#INNER CLASS CONCEPT TO HIDE THE ATTRIBUTE.if we have use single object for 2 classes\n",
        "class Employee:\n",
        "  def __init__(self,name,Id):\n",
        "    self.n=name\n",
        "    self.I=Id\n",
        "    self.M=self.member\n",
        "  def show(self):\n",
        "    print(self.n,self.I)\n",
        "  class member:\n",
        "   def __init__(self):\n",
        "     print(\"I am The Activity coordinator of the 8th sem\")\n",
        "   def show(self):\n",
        "     print(\"something\")\n",
        "E1=Employee(\"SIdd\",50024342)\n",
        "E1.show()\n",
        "E1.M.show("
      ],
      "metadata": {
        "id": "Qa2uyMdKVbtQ"
      },
      "execution_count": null,
      "outputs": []
    },
    {
      "cell_type": "markdown",
      "source": [
        "INHERITANCE IN PYTHON"
      ],
      "metadata": {
        "id": "s-CbZJcMVds9"
      }
    },
    {
      "cell_type": "code",
      "source": [
        "class Parents:\n",
        "  def value():\n",
        "    print(\"I have property worth 1.3 billion\")\n",
        "class Son(Parents):      #inheritance syntax\n",
        "  def property():\n",
        "    print(\"I have Nothing ,I am Bankrupt\")\n",
        "class Daughter(Parents):\n",
        "  def property():\n",
        "    print(\"I am Settled abroad\")\n",
        "S1=Son()\n",
        "S1.value()\n",
        "d1=Daughter()\n",
        "d1.property()"
      ],
      "metadata": {
        "id": "7-IJs5PwVkh7"
      },
      "execution_count": null,
      "outputs": []
    },
    {
      "cell_type": "code",
      "source": [
        "#WAP TO Create two classes for the same object.the first class is studient and second class is member\n",
        "#we have to pass the student details and print the results from both class using only single object.\n",
        "\n",
        "class student:\n",
        "  def __init__(self,name,Id):\n",
        "    self.n=name\n",
        "    self.I=Id\n",
        "    self.V=self.member()\n",
        "  def view(self):\n",
        "    print(self.n,self.I)\n",
        "  class member:\n",
        "   def __init__(self):\n",
        "     print(\"I am the student of Upes\")\n",
        "   def view(self):\n",
        "     print(\"Hello World\")\n",
        "s1=student(\"Utkarsh\",500124586)\n",
        "s1.view()\n",
        "s1.V.view()"
      ],
      "metadata": {
        "colab": {
          "base_uri": "https://localhost:8080/"
        },
        "id": "gAsIeEaIVmxj",
        "outputId": "77fec298-ce0e-4ee0-9d5d-4011bd51b9b2"
      },
      "execution_count": 4,
      "outputs": [
        {
          "output_type": "stream",
          "name": "stdout",
          "text": [
            "I am the student of Upes\n",
            "Utkarsh 500124586\n",
            "Hello World\n"
          ]
        }
      ]
    },
    {
      "cell_type": "code",
      "source": [
        "#Wap to create a rectangle class that prints that consists of two methods or func\n",
        "\n",
        "class Rectangle:\n",
        "  def __init__(self,Length,Breadth):\n",
        "    self.L=Length\n",
        "    self.B=Breadth\n",
        "    self.V=self.inner()\n",
        "  def area(self):\n",
        "   print(self.L*self.B)\n",
        "  class inner():\n",
        "    def Perimeter(self):\n",
        "      print(2*(self.L+self.B))\n",
        "\n",
        "R1=Rectangle(4,5)\n",
        "R1.area()\n",
        "#R1.V.Perimeter()"
      ],
      "metadata": {
        "id": "Pfa4_aFIVw9g",
        "outputId": "3fbc343a-14dd-41b7-a992-de83b187ff00",
        "colab": {
          "base_uri": "https://localhost:8080/"
        }
      },
      "execution_count": 5,
      "outputs": [
        {
          "output_type": "stream",
          "name": "stdout",
          "text": [
            "20\n"
          ]
        }
      ]
    }
  ]
}